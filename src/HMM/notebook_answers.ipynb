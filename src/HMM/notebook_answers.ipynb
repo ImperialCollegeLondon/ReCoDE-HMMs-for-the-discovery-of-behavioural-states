{
 "cells": [
  {
   "cell_type": "markdown",
   "metadata": {},
   "source": [
    "Answers to otebook tasks\n",
    "====="
   ]
  },
  {
   "cell_type": "markdown",
   "metadata": {},
   "source": [
    "Note: this notebook does not contain the answers to all the extra tasks"
   ]
  },
  {
   "cell_type": "markdown",
   "metadata": {},
   "source": [
    "Notebook 1\n",
    "===="
   ]
  },
  {
   "cell_type": "code",
   "execution_count": 1,
   "metadata": {},
   "outputs": [],
   "source": [
    "import numpy as np"
   ]
  },
  {
   "cell_type": "code",
   "execution_count": 4,
   "metadata": {},
   "outputs": [
    {
     "data": {
      "text/plain": [
       "array([0.4285, 0.197 , 0.3745])"
      ]
     },
     "execution_count": 4,
     "metadata": {},
     "output_type": "execute_result"
    }
   ],
   "source": [
    "# Extra task 1a:\n",
    "t_matrix = np.array([[0.7, 0.05, 0.25],\n",
    "                    [0.35, 0.50, 0.15],\n",
    "                    [0.05, 0.3, 0.65]])\n",
    "\n",
    "# code to calculate 3 days after tired\n",
    "start_m = np.array([1,0,0])\n",
    "for i in range(3):\n",
    "    start_m = start_m.dot(t_matrix)\n",
    "\n",
    "start_m"
   ]
  },
  {
   "cell_type": "markdown",
   "metadata": {},
   "source": [
    "Notebook 2a\n",
    "===="
   ]
  },
  {
   "cell_type": "code",
   "execution_count": null,
   "metadata": {},
   "outputs": [],
   "source": [
    "# Task 1 - filter out nans\n",
    "\n",
    "df = df[(~df['moving'].isnull()) & (~df['micro'].isnull()) & (~df['walk'].isnull())].copy(deep = True)"
   ]
  },
  {
   "cell_type": "code",
   "execution_count": null,
   "metadata": {},
   "outputs": [],
   "source": [
    "# Task 2 - groupby and bin to 60 secs\n",
    "\n",
    "df = df.groupby(['id', 'bin_t']).agg(**{\n",
    "            'moving' : ('moving', 'max'),\n",
    "            'micro' : ('micro', 'max'),\n",
    "            'walk' : ('walk', 'max')\n",
    "})\n",
    "df.reset_index(inplace = True)\n",
    "df.rename(columns = {'bin_t' : 't'}, inplace = True)"
   ]
  },
  {
   "cell_type": "code",
   "execution_count": null,
   "metadata": {},
   "outputs": [],
   "source": [
    "# Task 3 - create small subset\n",
    "\n",
    "small_df = df[df['id'] == '2016-04-04_17-38-06_019aee|20'].copy(deep=True) \n",
    "\n",
    "small_df"
   ]
  },
  {
   "cell_type": "code",
   "execution_count": null,
   "metadata": {},
   "outputs": [],
   "source": [
    "# Task 4 - fill in interpolation function\n",
    "\n",
    "def fill_interpolate(data, timestep = 60):\n",
    "    \n",
    "    ts_seq = np.arange(min(data['t']), max(data['t']) + timestep, timestep)\n",
    "    ts_seq = pd.Series(ts_seq, name = 't')\n",
    "    new_df = data.merge(ts_seq, on = 't', how = 'right')\n",
    "    new_df.ffill(inplace=True)\n",
    "\n",
    "    return new_df"
   ]
  },
  {
   "cell_type": "code",
   "execution_count": null,
   "metadata": {},
   "outputs": [],
   "source": [
    "# Extra task - linear interpolate function \n",
    "\n",
    "def interpolate(data, timestep = 60):\n",
    "\n",
    "    ts_seq = np.arange(min(data['t']), max(data['t']) + timestep, timestep)\n",
    "    new_df = pd.DataFrame(data = {'t' : ts_seq})\n",
    "    \n",
    "    for i in ['x', 'y']:\n",
    "\n",
    "        new_df[i] = np.interp(ts_seq, data['t'].to_numpy(), data[i].to_numpy())\n",
    "\n",
    "    return new_df\n",
    "\n",
    "idf = interp_df.groupby('id').apply(interpolate, include_groups=False)\n",
    "idf.reset_index(inplace=True, level = 0)\n",
    "idf"
   ]
  },
  {
   "cell_type": "markdown",
   "metadata": {},
   "source": [
    "Notebook 2b\n",
    "====="
   ]
  },
  {
   "cell_type": "code",
   "execution_count": null,
   "metadata": {},
   "outputs": [],
   "source": [
    "# Task 1 - model parameters\n",
    "\n",
    "model = CategoricalHMM(n_components = len(hidden_states),  n_features = len(observables), params = 'ste', init_params = 's', verbose = True)"
   ]
  },
  {
   "cell_type": "code",
   "execution_count": null,
   "metadata": {},
   "outputs": [],
   "source": [
    "# Task 2 - for getting the lengths of each array in notebook 2b_training\n",
    "\n",
    "len_seq_train = [len(ar) for ar in train]\n",
    "len_seq_test = [len(ar) for ar in test]"
   ]
  },
  {
   "cell_type": "code",
   "execution_count": null,
   "metadata": {},
   "outputs": [],
   "source": [
    "# Task 3 - for creating the random emission probability array in notebook 2b_training\n",
    "\n",
    "em_prob = np.array([[np.random.random() if y == 'rand' else y for y in x] for x in em_prob_o], dtype = np.float64)\n",
    "em_prob = np.array([[y / sum(x) for y in x] for x in em_prob], dtype = np.float64)"
   ]
  },
  {
   "cell_type": "code",
   "execution_count": null,
   "metadata": {},
   "outputs": [],
   "source": [
    "# Example of how to complete the final task in notebook 2b_training\n",
    "\n",
    "observables = ['immobile', 'micro', 'walking']\n",
    "hidden_states = ['deep sleep', 'light sleep', 'quiet awake', 'active awake']\n",
    "\n",
    "t_prob_o = np.array([['rand', 'rand', 'rand', 0.0],\n",
    "                    ['rand', 'rand', 'rand', 0.0],\n",
    "                    [0.0, 'rand', 'rand', 'rand'],\n",
    "                    [0.0, 0.0, 'rand', 'rand']])\n",
    "\n",
    "\n",
    "em_prob_o =  np.array([[1.0, 0.0, 0.0],\n",
    "                    [1.0, 0.0, 0.0],\n",
    "                    ['rand', 'rand', 'rand'],\n",
    "                    ['rand', 'rand', 'rand']])\n",
    "\n",
    "model = CategoricalHMM(n_components = len(hidden_states),  n_features = len(observables), n_iter = 50, tol = 5, params = 'ste', init_params = 's', verbose = True) \n",
    "\n",
    "save_path = '...\\HMM_tutorial\\data\\4_state_hmm.pkl'\n",
    "\n",
    "iterations = 10 \n",
    "for i in range(iterations):\n",
    "\n",
    "    t_prob = np.array([[np.random.random() if y == 'rand' else y for y in x] for x in t_prob_o], dtype = np.float64)\n",
    "    t_prob = np.array([[y / sum(x) for y in x] for x in t_prob], dtype = np.float64)\n",
    "    model.transmat_ = t_prob\n",
    "\n",
    "    em_prob = np.array([[np.random.random() if y == 'rand' else y for y in x] for x in em_prob_o], dtype = np.float64)\n",
    "    em_prob = np.array([[y / sum(x) for y in x] for x in em_prob], dtype = np.float64)\n",
    "    model.emissionprob_ = em_prob\n",
    "\n",
    "    hmm = model.fit(seq_train, len_seq_train)\n",
    "    print(\"True Convergence:\" + str(hmm.monitor_.history[-1] - hmm.monitor_.history[-2] < hmm.monitor_.tol)) # If it converges rather than max iterations print True\n",
    "    print(\"Final log liklihood score:\" + str(hmm.score(seq_train, len_seq_train))) # Print the final log liklihood score\n",
    "\n",
    "    score = hmm.score(seq_test, len_seq_test) \n",
    "\n",
    "    if best_score is None or best_score < score:\n",
    "        best_score = score\n",
    "        best_model = hmm\n",
    "        print('New Matrix: \\n')\n",
    "        print(f'Transition matrix: \\n {hmm.transmat_} \\n')\n",
    "        print(f'Emission probabilities: \\n {hmm.emissionprob_}')\n",
    "\n",
    "with open(save_path, \"wb\") as file: pickle.dump(best_model, file)\n",
    "hmm_display(hmm, hidden_states, observables)"
   ]
  },
  {
   "cell_type": "markdown",
   "metadata": {},
   "source": [
    "Notebook 2c\n",
    "===="
   ]
  },
  {
   "cell_type": "code",
   "execution_count": null,
   "metadata": {},
   "outputs": [],
   "source": [
    "# Example of how to complete the model score final task in notebook 2c_validating\n",
    "\n",
    "aic = []\n",
    "bic = []\n",
    "lls = []\n",
    "ns = [2, 4, 6, 8]\n",
    "for n in ns:\n",
    "    print(f'Beginning training {n} states')\n",
    "    best_ll = None\n",
    "    best_model = None\n",
    "\n",
    "    for i in range(10):\n",
    "\n",
    "        h = CategoricalHMM(n_components = n,  n_iter = 20, tol = 5, n_features = len(observables), params = 'ste', init_params = 'ste') \n",
    "        h.fit(seq_all, len_seq_all)\n",
    "        score = h.score(seq_all, len_seq_all)\n",
    "        if not best_ll or score > best_ll:\n",
    "            best_ll = score\n",
    "            best_model = h\n",
    "\n",
    "    aic.append(best_model.aic(seq_all, len_seq_all))\n",
    "    bic.append(best_model.bic(seq_all, len_seq_all))\n",
    "    lls.append(best_model.score(seq_all, len_seq_all))"
   ]
  },
  {
   "cell_type": "code",
   "execution_count": null,
   "metadata": {},
   "outputs": [],
   "source": [
    "import matplotlib.pyplot as plt\n",
    "\n",
    "fig, ax = plt.subplots()\n",
    "ln1 = ax.plot(ns, aic, label=\"AIC\", color=\"blue\", marker=\"o\")\n",
    "ln2 = ax.plot(ns, bic, label=\"BIC\", color=\"green\", marker=\"o\")\n",
    "ax2 = ax.twinx()\n",
    "ln3 = ax2.plot(ns, lls, label=\"LL\", color=\"orange\", marker=\"o\")\n",
    "\n",
    "ax.legend(handles=ax.lines + ax2.lines)\n",
    "ax.set_title(\"Using AIC/BIC for Model Selection\")\n",
    "ax.set_ylabel(\"Criterion Value (lower is better)\")\n",
    "ax2.set_ylabel(\"LL (higher is better)\")\n",
    "ax.set_xlabel(\"Number of HMM Components\")\n",
    "fig.tight_layout()\n",
    "\n",
    "plt.show()"
   ]
  },
  {
   "attachments": {
    "example_validate_output.png": {
     "image/png": "[encoded data removed]"
    }
   },
   "cell_type": "markdown",
   "metadata": {},
   "source": [
    "Example of what the plot for above should look like\n",
    "\n",
    "![example_validate_output.png](attachment:example_validate_output.png)\n",
    "\n",
    "As you can see increasing the number of hidden states improves the model. Whilst the 4_state model performs slightly worse, we know its outputs and transitions are more biologically relevant, as the other models can have the sleep states emit movement which would be wrong. The score itself is mostly useful for seeing if you are overfitting a model by increasing the complexity and for general liklihood scoring, so alwasy balance it with your own knowledge."
   ]
  }
 ],
 "metadata": {
  "kernelspec": {
   "display_name": ".venv",
   "language": "python",
   "name": "python3"
  },
  "language_info": {
   "codemirror_mode": {
    "name": "ipython",
    "version": 3
   },
   "file_extension": ".py",
   "mimetype": "text/x-python",
   "name": "python",
   "nbconvert_exporter": "python",
   "pygments_lexer": "ipython3",
   "version": "3.11.8"
  }
 },
 "nbformat": 4,
 "nbformat_minor": 2
}

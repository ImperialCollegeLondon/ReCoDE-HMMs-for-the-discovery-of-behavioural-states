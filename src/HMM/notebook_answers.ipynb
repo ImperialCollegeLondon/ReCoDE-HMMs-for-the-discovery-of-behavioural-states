{
 "cells": [
  {
   "cell_type": "markdown",
   "metadata": {},
   "source": [
    "Answers to within notebook tasks\n",
    "====="
   ]
  },
  {
   "cell_type": "markdown",
   "metadata": {},
   "source": [
    "Note: this notebook does not contain the answers to the extra tasks"
   ]
  },
  {
   "cell_type": "markdown",
   "metadata": {},
   "source": []
  },
  {
   "cell_type": "code",
   "execution_count": null,
   "metadata": {},
   "outputs": [],
   "source": [
    "# Example for getting the lengths of each array in notebook 2b_training\n",
    "\n",
    "len_seq_train = [len(ar) for ar in train]\n",
    "len_seq_test = [len(ar) for ar in test]"
   ]
  },
  {
   "cell_type": "code",
   "execution_count": null,
   "metadata": {},
   "outputs": [],
   "source": [
    "# Example for creating the random emission probability array in notebook 2b_training\n",
    "\n",
    "em_prob = np.array([[np.random.random() if y == 'rand' else y for y in x] for x in em_prob_o], dtype = np.float64)\n",
    "em_prob = np.array([[y / sum(x) for y in x] for x in em_prob], dtype = np.float64)"
   ]
  },
  {
   "cell_type": "code",
   "execution_count": null,
   "metadata": {},
   "outputs": [],
   "source": [
    "# Example of how to complete the final task in notebook 2b_training\n",
    "\n",
    "observables = ['immobile', 'micro', 'walking']\n",
    "hidden_states = ['deep sleep', 'light sleep', 'quiet awake', 'active awake']\n",
    "\n",
    "t_prob_o = np.array([['rand', 'rand', 'rand', 0.0],\n",
    "                    ['rand', 'rand', 'rand', 0.0],\n",
    "                    [0.0, 'rand', 'rand', 'rand'],\n",
    "                    [0.0, 0.0, 'rand', 'rand']])\n",
    "\n",
    "\n",
    "em_prob_o =  np.array([[1.0, 0.0, 0.0],\n",
    "                    [1.0, 0.0, 0.0],\n",
    "                    ['rand', 'rand', 'rand'],\n",
    "                    ['rand', 'rand', 'rand']])\n",
    "\n",
    "model = CategoricalHMM(n_components = len(hidden_states),  n_features = len(observables), n_iter = 50, tol = 5, params = 'ste', init_params = 's', verbose = True) \n",
    "\n",
    "save_path = '...\\HMM_tutorial\\data\\4_state_hmm.pkl'\n",
    "\n",
    "iterations = 10 \n",
    "for i in range(iterations):\n",
    "\n",
    "    t_prob = np.array([[np.random.random() if y == 'rand' else y for y in x] for x in t_prob_o], dtype = np.float64)\n",
    "    t_prob = np.array([[y / sum(x) for y in x] for x in t_prob], dtype = np.float64)\n",
    "    model.transmat_ = t_prob\n",
    "\n",
    "    em_prob = np.array([[np.random.random() if y == 'rand' else y for y in x] for x in em_prob_o], dtype = np.float64)\n",
    "    em_prob = np.array([[y / sum(x) for y in x] for x in em_prob], dtype = np.float64)\n",
    "    model.emissionprob_ = em_prob\n",
    "\n",
    "    hmm = model.fit(seq_train, len_seq_train)\n",
    "    print(\"True Convergence:\" + str(hmm.monitor_.history[-1] - hmm.monitor_.history[-2] < hmm.monitor_.tol)) # If it converges rather than max iterations print True\n",
    "    print(\"Final log liklihood score:\" + str(hmm.score(seq_train, len_seq_train))) # Print the final log liklihood score\n",
    "\n",
    "    score = hmm.score(seq_test, len_seq_test) \n",
    "\n",
    "    if best_score is None or best_score < score:\n",
    "        best_score = score\n",
    "        best_model = hmm\n",
    "        print('New Matrix: \\n')\n",
    "        print(f'Transition matrix: \\n {hmm.transmat_} \\n')\n",
    "        print(f'Emission probabilities: \\n {hmm.emissionprob_}')\n",
    "\n",
    "with open(save_path, \"wb\") as file: pickle.dump(best_model, file)\n",
    "hmm_display(hmm, hidden_states, observables)"
   ]
  }
 ],
 "metadata": {
  "kernelspec": {
   "display_name": ".venv",
   "language": "python",
   "name": "python3"
  },
  "language_info": {
   "name": "python",
   "version": "3.11.7"
  }
 },
 "nbformat": 4,
 "nbformat_minor": 2
}
